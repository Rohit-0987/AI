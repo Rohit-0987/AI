{
 "cells": [
  {
   "cell_type": "code",
   "execution_count": 1,
   "id": "c276cc0c",
   "metadata": {},
   "outputs": [
    {
     "name": "stdout",
     "output_type": "stream",
     "text": [
      "Following is the Breadth-First Search\n",
      "5 3 7 2 4 8 "
     ]
    }
   ],
   "source": [
    "graph = {\n",
    "'5' : ['3','7'],\n",
    "'3' : ['2', '4'],\n",
    "'7' : ['8'],\n",
    "'2' : [],\n",
    "'4' : ['8'],\n",
    "'8' : []\n",
    "}\n",
    "visited = [] # List for visited nodes.\n",
    "queue = [] #Initialize a queue\n",
    "def bfs(visited, graph, node): #function for BFS\n",
    "\tvisited.append(node)\n",
    "\tqueue.append(node)\n",
    "\twhile queue: # Creating loop to visit each node\n",
    "\t\tm = queue.pop(0)\n",
    "\t\tprint (m, end = \" \")\n",
    "\t\tfor neighbour in graph[m]:\n",
    "\t\t\tif neighbour not in visited:\n",
    "\t\t\t\tvisited.append(neighbour)\n",
    "\t\t\t\tqueue.append(neighbour)\n",
    "# Driver Code\n",
    "print(\"Following is the Breadth-First Search\")\n",
    "bfs(visited, graph, '5') # function calling"
   ]
  },
  {
   "cell_type": "code",
   "execution_count": 3,
   "id": "0629fab3",
   "metadata": {},
   "outputs": [
    {
     "name": "stdout",
     "output_type": "stream",
     "text": [
      "Enter the graph as an adjacency list:\n",
      "Enter a node (or type 'done' to finish): 5\n",
      "Enter its neighbors (comma-separated): 3,7\n",
      "Enter a node (or type 'done' to finish): 3\n",
      "Enter its neighbors (comma-separated): 2,4\n",
      "Enter a node (or type 'done' to finish): 7\n",
      "Enter its neighbors (comma-separated): 8\n",
      "Enter a node (or type 'done' to finish): 2\n",
      "Enter its neighbors (comma-separated): \n",
      "Enter a node (or type 'done' to finish): 4\n",
      "Enter its neighbors (comma-separated): 8\n",
      "Enter a node (or type 'done' to finish): 8\n",
      "Enter its neighbors (comma-separated): \n",
      "Enter a node (or type 'done' to finish): done\n",
      "Enter the starting node: 5\n",
      "Following is the Breadth-First Search:\n",
      "5 3 7 2 4 8  "
     ]
    },
    {
     "ename": "KeyError",
     "evalue": "''",
     "output_type": "error",
     "traceback": [
      "\u001b[1;31m---------------------------------------------------------------------------\u001b[0m",
      "\u001b[1;31mKeyError\u001b[0m                                  Traceback (most recent call last)",
      "Cell \u001b[1;32mIn[3], line 31\u001b[0m\n\u001b[0;32m     29\u001b[0m \u001b[38;5;28;01melse\u001b[39;00m:\n\u001b[0;32m     30\u001b[0m     \u001b[38;5;28mprint\u001b[39m(\u001b[38;5;124m\"\u001b[39m\u001b[38;5;124mFollowing is the Breadth-First Search:\u001b[39m\u001b[38;5;124m\"\u001b[39m)\n\u001b[1;32m---> 31\u001b[0m     \u001b[43mbfs\u001b[49m\u001b[43m(\u001b[49m\u001b[43mvisited\u001b[49m\u001b[43m,\u001b[49m\u001b[43m \u001b[49m\u001b[43mgraph\u001b[49m\u001b[43m,\u001b[49m\u001b[43m \u001b[49m\u001b[43mstart_node\u001b[49m\u001b[43m)\u001b[49m  \u001b[38;5;66;03m# function calling\u001b[39;00m\n",
      "Cell \u001b[1;32mIn[3], line 10\u001b[0m, in \u001b[0;36mbfs\u001b[1;34m(visited, graph, node)\u001b[0m\n\u001b[0;32m      8\u001b[0m m \u001b[38;5;241m=\u001b[39m queue\u001b[38;5;241m.\u001b[39mpop(\u001b[38;5;241m0\u001b[39m)\n\u001b[0;32m      9\u001b[0m \u001b[38;5;28mprint\u001b[39m(m, end\u001b[38;5;241m=\u001b[39m\u001b[38;5;124m\"\u001b[39m\u001b[38;5;124m \u001b[39m\u001b[38;5;124m\"\u001b[39m)\n\u001b[1;32m---> 10\u001b[0m \u001b[38;5;28;01mfor\u001b[39;00m neighbour \u001b[38;5;129;01min\u001b[39;00m \u001b[43mgraph\u001b[49m\u001b[43m[\u001b[49m\u001b[43mm\u001b[49m\u001b[43m]\u001b[49m:\n\u001b[0;32m     11\u001b[0m     \u001b[38;5;28;01mif\u001b[39;00m neighbour \u001b[38;5;129;01mnot\u001b[39;00m \u001b[38;5;129;01min\u001b[39;00m visited:\n\u001b[0;32m     12\u001b[0m         visited\u001b[38;5;241m.\u001b[39mappend(neighbour)\n",
      "\u001b[1;31mKeyError\u001b[0m: ''"
     ]
    }
   ],
   "source": [
    "visited = []  # List for visited nodes.\n",
    "queue = []  # Initialize a queue\n",
    "\n",
    "def bfs(visited, graph, node):\n",
    "    visited.append(node)\n",
    "    queue.append(node)\n",
    "    while queue:  # Creating loop to visit each node\n",
    "        m = queue.pop(0)\n",
    "        print(m, end=\" \")\n",
    "        for neighbour in graph[m]:\n",
    "            if neighbour not in visited:\n",
    "                visited.append(neighbour)\n",
    "                queue.append(neighbour)\n",
    "\n",
    "# Driver Code\n",
    "print(\"Enter the graph as an adjacency list:\")\n",
    "graph = {}\n",
    "while True:\n",
    "    node = input(\"Enter a node (or type 'done' to finish): \")\n",
    "    if node == \"done\":\n",
    "        break\n",
    "    neighbors = input(\"Enter its neighbors (comma-separated): \").split(\",\")\n",
    "    graph[node] = neighbors\n",
    "\n",
    "start_node = input(\"Enter the starting node: \")\n",
    "\n",
    "if start_node not in graph:\n",
    "    print(\"Starting node does not exist in the graph!\")\n",
    "else:\n",
    "    print(\"Following is the Breadth-First Search:\")\n",
    "    bfs(visited, graph, start_node)  # function calling\n"
   ]
  },
  {
   "cell_type": "code",
   "execution_count": null,
   "id": "75a3b77d",
   "metadata": {},
   "outputs": [],
   "source": []
  }
 ],
 "metadata": {
  "kernelspec": {
   "display_name": "Python 3 (ipykernel)",
   "language": "python",
   "name": "python3"
  },
  "language_info": {
   "codemirror_mode": {
    "name": "ipython",
    "version": 3
   },
   "file_extension": ".py",
   "mimetype": "text/x-python",
   "name": "python",
   "nbconvert_exporter": "python",
   "pygments_lexer": "ipython3",
   "version": "3.10.7"
  }
 },
 "nbformat": 4,
 "nbformat_minor": 5
}
