{
 "cells": [
  {
   "cell_type": "code",
   "execution_count": 1,
   "id": "2ca315b9",
   "metadata": {},
   "outputs": [
    {
     "name": "stdout",
     "output_type": "stream",
     "text": [
      "Following is the Depth-First Search\n",
      "5\n",
      "3\n",
      "2\n",
      "4\n",
      "8\n",
      "7\n"
     ]
    }
   ],
   "source": [
    "graph = {\n",
    "'5' : ['3','7'],\n",
    "'3' : ['2','4'],\n",
    "'7' : ['8'],\n",
    "'2' : [],\n",
    "'4' : ['8'],\n",
    "'8' : []\n",
    "}\n",
    "visited = set() # Set to keep track of visited nodes of graph.\n",
    "def dfs(visited, graph, node): #function for dfs\n",
    "\tif node not in visited:\n",
    "\t\tprint (node)\n",
    "\t\tvisited.add(node)\n",
    "\t\tfor neighbour in graph[node]:\n",
    "\t\t\tdfs(visited, graph, neighbour)\n",
    "# Driver Code\n",
    "print(\"Following is the Depth-First Search\")\n",
    "dfs(visited, graph, '5')"
   ]
  },
  {
   "cell_type": "code",
   "execution_count": 3,
   "id": "cfe89792",
   "metadata": {},
   "outputs": [
    {
     "name": "stdout",
     "output_type": "stream",
     "text": [
      "Depth-First Search\n",
      "Enter the number of nodes in the graph: 6\n",
      "Enter the node: 5\n",
      "Enter the neighbors of 5 (comma-separated): 3,7\n",
      "Enter the node: 3\n",
      "Enter the neighbors of 3 (comma-separated): 2,4\n",
      "Enter the node: 7\n",
      "Enter the neighbors of 7 (comma-separated): 8\n",
      "Enter the node: 2\n",
      "Enter the neighbors of 2 (comma-separated): \n",
      "Enter the node: 4\n",
      "Enter the neighbors of 4 (comma-separated): 8\n",
      "Enter the node: 8\n",
      "Enter the neighbors of 8 (comma-separated): \n",
      "Enter the starting node: 5\n",
      "5\n",
      "3\n",
      "2\n",
      "\n",
      "4\n",
      "8\n",
      "7\n"
     ]
    }
   ],
   "source": [
    "def create_graph():\n",
    "    graph = {}\n",
    "    num_nodes = int(input(\"Enter the number of nodes in the graph: \"))\n",
    "\n",
    "    for i in range(num_nodes):\n",
    "        node = input(\"Enter the node: \")\n",
    "        neighbors = input(\"Enter the neighbors of {} (comma-separated): \".format(node)).split(',')\n",
    "        graph[node] = neighbors\n",
    "\n",
    "    return graph\n",
    "\n",
    "def dfs(visited, graph, node):\n",
    "    if node not in visited:\n",
    "        print(node)\n",
    "        visited.add(node)\n",
    "        if node in graph:\n",
    "            for neighbour in graph[node]:\n",
    "                dfs(visited, graph, neighbour)\n",
    "\n",
    "# Driver Code\n",
    "print(\"Depth-First Search\")\n",
    "graph = create_graph()\n",
    "visited = set()\n",
    "start_node = input(\"Enter the starting node: \")\n",
    "dfs(visited, graph, start_node)"
   ]
  },
  {
   "cell_type": "code",
   "execution_count": null,
   "id": "1262db92",
   "metadata": {},
   "outputs": [],
   "source": []
  }
 ],
 "metadata": {
  "kernelspec": {
   "display_name": "Python 3 (ipykernel)",
   "language": "python",
   "name": "python3"
  },
  "language_info": {
   "codemirror_mode": {
    "name": "ipython",
    "version": 3
   },
   "file_extension": ".py",
   "mimetype": "text/x-python",
   "name": "python",
   "nbconvert_exporter": "python",
   "pygments_lexer": "ipython3",
   "version": "3.10.7"
  }
 },
 "nbformat": 4,
 "nbformat_minor": 5
}
