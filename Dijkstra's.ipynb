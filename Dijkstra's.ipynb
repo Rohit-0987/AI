{
 "cells": [
  {
   "cell_type": "markdown",
   "metadata": {
    "id": "sSPeM0GWYg9g"
   },
   "source": [
    "**Dijkstra's Algorithm**\n",
    "\n",
    "Code:"
   ]
  },
  {
   "cell_type": "code",
   "execution_count": null,
   "metadata": {
    "colab": {
     "base_uri": "https://localhost:8080/"
    },
    "executionInfo": {
     "elapsed": 641,
     "status": "ok",
     "timestamp": 1684923130641,
     "user": {
      "displayName": "Aaditya Bansude",
      "userId": "05732230439820512175"
     },
     "user_tz": -330
    },
    "id": "0L5Vjs89N9Kc",
    "outputId": "f049b10e-a5f8-4eff-a10e-6245786555e9"
   },
   "outputs": [
    {
     "name": "stdout",
     "output_type": "stream",
     "text": [
      "Vertex \t Distance from Source\n",
      "0 \t\t 0\n",
      "1 \t\t 4\n",
      "2 \t\t 12\n",
      "3 \t\t 19\n",
      "4 \t\t 21\n",
      "5 \t\t 11\n",
      "6 \t\t 9\n",
      "7 \t\t 8\n",
      "8 \t\t 14\n"
     ]
    }
   ],
   "source": [
    "V = 9\n",
    "graph = [[0, 4, 0, 0, 0, 0, 0, 8, 0],\n",
    "        [4, 0, 8, 0, 0, 0, 0, 11, 0],\n",
    "        [0, 8, 0, 7, 0, 4, 0, 0, 2],\n",
    "        [0, 0, 7, 0, 9, 14, 0, 0, 0],\n",
    "        [0, 0, 0, 9, 0, 10, 0, 0, 0],\n",
    "        [0, 0, 4, 14, 10, 0, 2, 0, 0],\n",
    "        [0, 0, 0, 0, 0, 2, 0, 1, 6],\n",
    "        [8, 11, 0, 0, 0, 0, 1, 0, 7],\n",
    "        [0, 0, 2, 0, 0, 0, 6, 7, 0]]\n",
    "\n",
    "def printSolution(dist):\n",
    "    print(\"Vertex \\t Distance from Source\")\n",
    "    for node in range(V):\n",
    "        print(node, \"\\t\\t\", dist[node])\n",
    "\n",
    "def minDistance(dist, sptSet):\n",
    "    min = 1e7\n",
    "    for v in range(V):\n",
    "        if dist[v] < min and sptSet[v] == False:\n",
    "            min = dist[v]\n",
    "            min_index = v\n",
    "\n",
    "    return min_index\n",
    "\n",
    "def dijkstra(src):\n",
    "    dist = [1e7] * V\n",
    "    dist[src] = 0\n",
    "    sptSet = [False] * V\n",
    "\n",
    "    for cout in range(V):\n",
    "        u = minDistance(dist, sptSet)\n",
    "        sptSet[u] = True\n",
    "        for v in range(V):\n",
    "            if (graph[u][v] > 0 and\n",
    "                sptSet[v] == False and\n",
    "                dist[v] > dist[u] + graph[u][v]):\n",
    "                dist[v] = dist[u] + graph[u][v]\n",
    "\n",
    "    printSolution(dist)\n",
    " \n",
    "dijkstra(0)\n",
    "\n",
    "#Output"
   ]
  }
 ],
 "metadata": {
  "colab": {
   "authorship_tag": "ABX9TyOGuoR6zBfUNARupWS+8SKr",
   "provenance": []
  },
  "kernelspec": {
   "display_name": "Python 3 (ipykernel)",
   "language": "python",
   "name": "python3"
  },
  "language_info": {
   "codemirror_mode": {
    "name": "ipython",
    "version": 3
   },
   "file_extension": ".py",
   "mimetype": "text/x-python",
   "name": "python",
   "nbconvert_exporter": "python",
   "pygments_lexer": "ipython3",
   "version": "3.10.7"
  }
 },
 "nbformat": 4,
 "nbformat_minor": 1
}
