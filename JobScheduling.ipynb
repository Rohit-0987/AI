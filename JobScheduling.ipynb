{
 "cells": [
  {
   "cell_type": "markdown",
   "metadata": {
    "id": "YkekKyVaX-jR"
   },
   "source": [
    "**Job Scheduling**\n",
    "\n",
    "Code:"
   ]
  },
  {
   "cell_type": "code",
   "execution_count": 1,
   "metadata": {
    "colab": {
     "base_uri": "https://localhost:8080/"
    },
    "executionInfo": {
     "elapsed": 9,
     "status": "ok",
     "timestamp": 1685001691956,
     "user": {
      "displayName": "Aaditya Bansude",
      "userId": "05732230439820512175"
     },
     "user_tz": -330
    },
    "id": "sjxwbP5XhNih",
    "outputId": "8a04e7e0-ec2d-40d6-e01b-4705f498356a"
   },
   "outputs": [
    {
     "name": "stdout",
     "output_type": "stream",
     "text": [
      "Following is maximum profit sequence of jobs:\n",
      "['c', 'a', 'e']\n"
     ]
    }
   ],
   "source": [
    "def JobScheduling(arr, t):\n",
    "    n = len(arr)\n",
    "    arr.sort(key = lambda item:item[2],reverse = True)\n",
    "    \n",
    "    result = [False] * t\n",
    "    job = ['-1'] * t\n",
    "    for i in range(n):\n",
    "        for j in range(min(t - 1, arr[i][1] - 1), -1, -1):\n",
    "            if result[j] is False:\n",
    "                result[j] = True\n",
    "                job[j] = arr[i][0]\n",
    "                break\n",
    "    print(job)\n",
    "\n",
    "arr = [['a', 2, 100],\n",
    "       ['b', 1, 19],\n",
    "       ['c', 2, 27],\n",
    "       ['d', 1, 25],\n",
    "       ['e', 3, 15]]\n",
    "\n",
    "print(\"Following is maximum profit sequence of jobs:\")\n",
    "JobScheduling(arr, 3)\n",
    "\n",
    "#Output"
   ]
  },
  {
   "cell_type": "code",
   "execution_count": null,
   "metadata": {},
   "outputs": [],
   "source": []
  }
 ],
 "metadata": {
  "colab": {
   "authorship_tag": "ABX9TyPfTcEbVNO64sf2S//2a/jj",
   "provenance": []
  },
  "kernelspec": {
   "display_name": "Python 3 (ipykernel)",
   "language": "python",
   "name": "python3"
  },
  "language_info": {
   "codemirror_mode": {
    "name": "ipython",
    "version": 3
   },
   "file_extension": ".py",
   "mimetype": "text/x-python",
   "name": "python",
   "nbconvert_exporter": "python",
   "pygments_lexer": "ipython3",
   "version": "3.10.7"
  }
 },
 "nbformat": 4,
 "nbformat_minor": 1
}
