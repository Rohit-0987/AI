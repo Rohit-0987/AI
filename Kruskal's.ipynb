{
 "cells": [
  {
   "cell_type": "markdown",
   "metadata": {
    "id": "JkbeT-qRYU8N"
   },
   "source": [
    "**Kruskal's Algorithm**\n",
    "\n",
    "Code:"
   ]
  },
  {
   "cell_type": "code",
   "execution_count": 2,
   "metadata": {
    "colab": {
     "base_uri": "https://localhost:8080/"
    },
    "executionInfo": {
     "elapsed": 875,
     "status": "ok",
     "timestamp": 1684941902769,
     "user": {
      "displayName": "Aaditya Bansude",
      "userId": "05732230439820512175"
     },
     "user_tz": -330
    },
    "id": "7IA6BaCAIyTa",
    "outputId": "8f136328-e07f-41bd-fb18-890a57885467"
   },
   "outputs": [
    {
     "name": "stdout",
     "output_type": "stream",
     "text": [
      "Edge : Weight\n",
      " 2-3 : 4\n",
      " 0-3 : 5\n",
      " 0-1 : 10\n",
      "\n",
      "Minimum Spanning Tree:  19\n"
     ]
    }
   ],
   "source": [
    "graph = []\n",
    "V = 4\n",
    "\n",
    "def addEdge(u, v, w):\n",
    "    graph.append([u, v, w])\n",
    "\n",
    "def find(parent, i):\n",
    "    if parent[i] != i:\n",
    "        parent[i] = find(parent, parent[i])\n",
    "    return parent[i]\n",
    "\n",
    "def union(parent, rank, x, y):\n",
    "    if rank[x] < rank[y]:\n",
    "        parent[x] = y\n",
    "    elif rank[x] > rank[y]:\n",
    "        parent[y] = x\n",
    "    else:\n",
    "        parent[y] = x\n",
    "        rank[x] += 1\n",
    "\n",
    "def KruskalMST():\n",
    "    result = []\n",
    "    i = 0\n",
    "    e = 0\n",
    "    graph.sort(key=lambda item: item[2])\n",
    "    parent = []\n",
    "    rank = []\n",
    "\n",
    "    for node in range(V):\n",
    "        parent.append(node)\n",
    "        rank.append(0)\n",
    "\n",
    "    while e < V - 1:\n",
    "        u, v, w = graph[i]\n",
    "        i = i + 1\n",
    "        x = find(parent, u)\n",
    "        y = find(parent, v)\n",
    "\n",
    "        if x != y:\n",
    "            e = e + 1\n",
    "            result.append([u, v, w])\n",
    "            union(parent, rank, x, y)\n",
    "\n",
    "    minimumCost = 0\n",
    "    print(\"Edge : Weight\")    \n",
    "    for u, v, weight in result:\n",
    "        minimumCost += weight\n",
    "        print (\" \" + str(u) + \"-\" + str(v) + \" \" + \":\" + \" \" + str(weight)) \n",
    "        # print(\"%d -- %d == %d\" % (u, v, weight))\n",
    "    print(\"\\nMinimum Spanning Tree: \", minimumCost)\n",
    " \n",
    "addEdge(0, 1, 10)\n",
    "addEdge(0, 2, 6)\n",
    "addEdge(0, 3, 5)\n",
    "addEdge(1, 3, 15)\n",
    "addEdge(2, 3, 4)\n",
    "\n",
    "KruskalMST()\n",
    "\n",
    "#Output"
   ]
  },
  {
   "cell_type": "code",
   "execution_count": 15,
   "metadata": {},
   "outputs": [
    {
     "name": "stdout",
     "output_type": "stream",
     "text": [
      "Edge : Weight\n",
      " 2-3 : 4\n",
      " 0-3 : 5\n",
      " 0-2 : 6\n",
      "\n",
      "Minimum Spanning Tree:  15\n"
     ]
    }
   ],
   "source": [
    "graph = []\n",
    "V =4\n",
    "def addEdge(u,v,w):\n",
    "    graph.append([u,v,w])\n",
    "def findParent(parrent,i):\n",
    "    if parrent[i] != i:\n",
    "        parrent[i] = findParent(parrent,parrent[i])\n",
    "    return parrent[i]\n",
    "def union(parrent,rank,x,y):\n",
    "    if rank[x]<rank[y]:\n",
    "        parrent[x] = y\n",
    "    elif rank[x] > rank[y]:\n",
    "        parrent[y] = x\n",
    "    else:\n",
    "        parrent[y] = x\n",
    "        rank[x] += 1\n",
    "\n",
    "def kruskalMst():\n",
    "    result = []\n",
    "    e = 0\n",
    "    i = 0\n",
    "    graph.sort(key=lambda item: item[2])\n",
    "    parrent = []\n",
    "    rank = []\n",
    "    for node in range (V):\n",
    "        parrent.append(node)\n",
    "        rank.append(0)\n",
    "    while e < V-1:\n",
    "        u, v, w = graph[i]\n",
    "        i += 1\n",
    "        x = findParent(parrent,u)\n",
    "        y = findParent(parrent,v)\n",
    "        \n",
    "        if x!=y:\n",
    "            e += 1\n",
    "            result.append([u,v,w])\n",
    "            union(graph,rank,x,y) \n",
    "            \n",
    "    minimumCost = 0            \n",
    "    print(\"Edge : Weight\")    \n",
    "    for u, v, weight in result:\n",
    "        minimumCost += weight\n",
    "        print (\" \" + str(u) + \"-\" + str(v) + \" \" + \":\" + \" \" + str(weight)) \n",
    "        # print(\"%d -- %d == %d\" % (u, v, weight))\n",
    "    print(\"\\nMinimum Spanning Tree: \", minimumCost)\n",
    "    \n",
    "addEdge(0, 1, 10)\n",
    "addEdge(0, 2, 6)\n",
    "addEdge(0, 3, 5)\n",
    "addEdge(1, 3, 15)\n",
    "addEdge(2, 3, 4)\n",
    "\n",
    "kruskalMst()\n",
    "                                                                                      "
   ]
  },
  {
   "cell_type": "code",
   "execution_count": null,
   "metadata": {},
   "outputs": [],
   "source": []
  }
 ],
 "metadata": {
  "colab": {
   "authorship_tag": "ABX9TyOkCTCRw5DgBuBCKArrU6nT",
   "provenance": []
  },
  "kernelspec": {
   "display_name": "Python 3 (ipykernel)",
   "language": "python",
   "name": "python3"
  },
  "language_info": {
   "codemirror_mode": {
    "name": "ipython",
    "version": 3
   },
   "file_extension": ".py",
   "mimetype": "text/x-python",
   "name": "python",
   "nbconvert_exporter": "python",
   "pygments_lexer": "ipython3",
   "version": "3.10.7"
  }
 },
 "nbformat": 4,
 "nbformat_minor": 1
}
