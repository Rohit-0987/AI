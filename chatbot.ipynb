{
 "cells": [
  {
   "cell_type": "code",
   "execution_count": 1,
   "id": "5d8db789",
   "metadata": {},
   "outputs": [
    {
     "name": "stdout",
     "output_type": "stream",
     "text": [
      "Jio Mart ChatBot: Hello! How can I assist you today?\n"
     ]
    },
    {
     "ename": "KeyboardInterrupt",
     "evalue": "Interrupted by user",
     "output_type": "error",
     "traceback": [
      "\u001b[1;31m---------------------------------------------------------------------------\u001b[0m",
      "\u001b[1;31mKeyboardInterrupt\u001b[0m                         Traceback (most recent call last)",
      "Cell \u001b[1;32mIn[1], line 45\u001b[0m\n\u001b[0;32m     43\u001b[0m \u001b[38;5;28mprint\u001b[39m(\u001b[38;5;124m\"\u001b[39m\u001b[38;5;124mJio Mart ChatBot: Hello! How can I assist you today?\u001b[39m\u001b[38;5;124m\"\u001b[39m)\n\u001b[0;32m     44\u001b[0m \u001b[38;5;28;01mwhile\u001b[39;00m \u001b[38;5;28;01mTrue\u001b[39;00m:\n\u001b[1;32m---> 45\u001b[0m     user_input \u001b[38;5;241m=\u001b[39m \u001b[38;5;28;43minput\u001b[39;49m\u001b[43m(\u001b[49m\u001b[38;5;124;43m\"\u001b[39;49m\u001b[38;5;124;43mUser: \u001b[39;49m\u001b[38;5;124;43m\"\u001b[39;49m\u001b[43m)\u001b[49m\n\u001b[0;32m     46\u001b[0m     response \u001b[38;5;241m=\u001b[39m chatbot_response(user_input)\n\u001b[0;32m     47\u001b[0m     \u001b[38;5;28mprint\u001b[39m(\u001b[38;5;124m\"\u001b[39m\u001b[38;5;124mJio Mart ChatBot: \u001b[39m\u001b[38;5;124m\"\u001b[39m \u001b[38;5;241m+\u001b[39m response)\n",
      "File \u001b[1;32m~\\AppData\\Roaming\\Python\\Python310\\site-packages\\ipykernel\\kernelbase.py:1182\u001b[0m, in \u001b[0;36mKernel.raw_input\u001b[1;34m(self, prompt)\u001b[0m\n\u001b[0;32m   1180\u001b[0m     msg \u001b[38;5;241m=\u001b[39m \u001b[38;5;124m\"\u001b[39m\u001b[38;5;124mraw_input was called, but this frontend does not support input requests.\u001b[39m\u001b[38;5;124m\"\u001b[39m\n\u001b[0;32m   1181\u001b[0m     \u001b[38;5;28;01mraise\u001b[39;00m StdinNotImplementedError(msg)\n\u001b[1;32m-> 1182\u001b[0m \u001b[38;5;28;01mreturn\u001b[39;00m \u001b[38;5;28;43mself\u001b[39;49m\u001b[38;5;241;43m.\u001b[39;49m\u001b[43m_input_request\u001b[49m\u001b[43m(\u001b[49m\n\u001b[0;32m   1183\u001b[0m \u001b[43m    \u001b[49m\u001b[38;5;28;43mstr\u001b[39;49m\u001b[43m(\u001b[49m\u001b[43mprompt\u001b[49m\u001b[43m)\u001b[49m\u001b[43m,\u001b[49m\n\u001b[0;32m   1184\u001b[0m \u001b[43m    \u001b[49m\u001b[38;5;28;43mself\u001b[39;49m\u001b[38;5;241;43m.\u001b[39;49m\u001b[43m_parent_ident\u001b[49m\u001b[43m[\u001b[49m\u001b[38;5;124;43m\"\u001b[39;49m\u001b[38;5;124;43mshell\u001b[39;49m\u001b[38;5;124;43m\"\u001b[39;49m\u001b[43m]\u001b[49m\u001b[43m,\u001b[49m\n\u001b[0;32m   1185\u001b[0m \u001b[43m    \u001b[49m\u001b[38;5;28;43mself\u001b[39;49m\u001b[38;5;241;43m.\u001b[39;49m\u001b[43mget_parent\u001b[49m\u001b[43m(\u001b[49m\u001b[38;5;124;43m\"\u001b[39;49m\u001b[38;5;124;43mshell\u001b[39;49m\u001b[38;5;124;43m\"\u001b[39;49m\u001b[43m)\u001b[49m\u001b[43m,\u001b[49m\n\u001b[0;32m   1186\u001b[0m \u001b[43m    \u001b[49m\u001b[43mpassword\u001b[49m\u001b[38;5;241;43m=\u001b[39;49m\u001b[38;5;28;43;01mFalse\u001b[39;49;00m\u001b[43m,\u001b[49m\n\u001b[0;32m   1187\u001b[0m \u001b[43m\u001b[49m\u001b[43m)\u001b[49m\n",
      "File \u001b[1;32m~\\AppData\\Roaming\\Python\\Python310\\site-packages\\ipykernel\\kernelbase.py:1225\u001b[0m, in \u001b[0;36mKernel._input_request\u001b[1;34m(self, prompt, ident, parent, password)\u001b[0m\n\u001b[0;32m   1222\u001b[0m \u001b[38;5;28;01mexcept\u001b[39;00m \u001b[38;5;167;01mKeyboardInterrupt\u001b[39;00m:\n\u001b[0;32m   1223\u001b[0m     \u001b[38;5;66;03m# re-raise KeyboardInterrupt, to truncate traceback\u001b[39;00m\n\u001b[0;32m   1224\u001b[0m     msg \u001b[38;5;241m=\u001b[39m \u001b[38;5;124m\"\u001b[39m\u001b[38;5;124mInterrupted by user\u001b[39m\u001b[38;5;124m\"\u001b[39m\n\u001b[1;32m-> 1225\u001b[0m     \u001b[38;5;28;01mraise\u001b[39;00m \u001b[38;5;167;01mKeyboardInterrupt\u001b[39;00m(msg) \u001b[38;5;28;01mfrom\u001b[39;00m \u001b[38;5;28mNone\u001b[39m\n\u001b[0;32m   1226\u001b[0m \u001b[38;5;28;01mexcept\u001b[39;00m \u001b[38;5;167;01mException\u001b[39;00m:\n\u001b[0;32m   1227\u001b[0m     \u001b[38;5;28mself\u001b[39m\u001b[38;5;241m.\u001b[39mlog\u001b[38;5;241m.\u001b[39mwarning(\u001b[38;5;124m\"\u001b[39m\u001b[38;5;124mInvalid Message:\u001b[39m\u001b[38;5;124m\"\u001b[39m, exc_info\u001b[38;5;241m=\u001b[39m\u001b[38;5;28;01mTrue\u001b[39;00m)\n",
      "\u001b[1;31mKeyboardInterrupt\u001b[0m: Interrupted by user"
     ]
    }
   ],
   "source": [
    "import random\n",
    "\n",
    "# Define a list of possible greetings and their corresponding responses\n",
    "greetings = [\"hello\", \"hi\", \"hey\", \"greetings\", \"good day\"]\n",
    "greeting_responses = [\"Hello! How can I assist you?\", \"Hi there! How may I help you?\", \"Hey! How can I be of service?\", \"Greetings! How may I assist you today?\", \"Good day! How can I help you?\"]\n",
    "\n",
    "# Define a list of possible queries and their corresponding responses\n",
    "queries = [\"product availability\", \"order status\", \"delivery information\", \"payment methods\"]\n",
    "query_responses = [\"Please provide the product name or ID, and I'll check its availability for you.\", \"To check your order status, please provide your order number.\", \"To get information about your delivery, please provide your order number.\", \"We accept multiple payment methods, including credit/debit cards and digital wallets.\"]\n",
    "\n",
    "# Define a list of possible farewell messages and their corresponding responses\n",
    "farewells = [\"bye\", \"goodbye\", \"see you\", \"take care\"]\n",
    "farewell_responses = [\"Goodbye! Have a great day.\", \"Take care! Feel free to reach out if you have any more questions.\", \"See you later! Have a wonderful day.\", \"Thank you for using our service. Goodbye!\"]\n",
    "\n",
    "# Function to generate a random response from a list of possible responses\n",
    "def generate_response(responses):\n",
    "    return random.choice(responses)\n",
    "\n",
    "# Function to handle user input and generate a response\n",
    "def chatbot_response(user_input):\n",
    "    # Convert user input to lowercase\n",
    "    user_input = user_input.lower()\n",
    "\n",
    "    # Check for greetings\n",
    "    for word in user_input.split():\n",
    "        if word in greetings:\n",
    "            return generate_response(greeting_responses)\n",
    "\n",
    "    # Check for queries\n",
    "    for word in user_input.split():\n",
    "        if word in queries:\n",
    "            return generate_response(query_responses)\n",
    "\n",
    "    # Check for farewells\n",
    "    for word in user_input.split():\n",
    "        if word in farewells:\n",
    "            return generate_response(farewell_responses)\n",
    "\n",
    "    # If no specific keyword is detected, generate a default response\n",
    "    return \"I apologize, but I am not able to assist with that specific inquiry. Please contact our customer support for further assistance.\"\n",
    "\n",
    "# Main loop for interacting with the chatbot\n",
    "print(\"Jio Mart ChatBot: Hello! How can I assist you today?\")\n",
    "while True:\n",
    "    user_input = input(\"User: \")\n",
    "    response = chatbot_response(user_input)\n",
    "    print(\"Jio Mart ChatBot: \" + response)\n"
   ]
  },
  {
   "cell_type": "code",
   "execution_count": 2,
   "id": "9327ebce",
   "metadata": {},
   "outputs": [
    {
     "ename": "ModuleNotFoundError",
     "evalue": "No module named 'chatterbot'",
     "output_type": "error",
     "traceback": [
      "\u001b[1;31m---------------------------------------------------------------------------\u001b[0m",
      "\u001b[1;31mModuleNotFoundError\u001b[0m                       Traceback (most recent call last)",
      "Cell \u001b[1;32mIn[2], line 1\u001b[0m\n\u001b[1;32m----> 1\u001b[0m \u001b[38;5;28;01mimport\u001b[39;00m \u001b[38;5;21;01mchatterbot\u001b[39;00m\n\u001b[0;32m      3\u001b[0m \u001b[38;5;66;03m# Create a new chatbot instance\u001b[39;00m\n\u001b[0;32m      4\u001b[0m chatbot \u001b[38;5;241m=\u001b[39m chatterbot\u001b[38;5;241m.\u001b[39mChatBot(\u001b[38;5;124m\"\u001b[39m\u001b[38;5;124mJio Mart Customer Service Bot\u001b[39m\u001b[38;5;124m\"\u001b[39m)\n",
      "\u001b[1;31mModuleNotFoundError\u001b[0m: No module named 'chatterbot'"
     ]
    }
   ],
   "source": [
    "import chatterbot\n",
    "\n",
    "# Create a new chatbot instance\n",
    "chatbot = chatterbot.ChatBot(\"Jio Mart Customer Service Bot\")\n",
    "\n",
    "# Train the chatbot on a dataset of text\n",
    "chatbot.train([\n",
    "    \"How do I place an order on Jio Mart?\",\n",
    "    \"How do I track my order?\",\n",
    "    \"How do I cancel my order?\",\n",
    "    \"How do I return an item?\",\n",
    "    \"How do I contact customer service?\",\n",
    "])\n",
    "\n",
    "# Start the chatbot\n",
    "while True:\n",
    "    # Get the user's input\n",
    "    user_input = input(\"How can I help you today? \")\n",
    "\n",
    "    # Get the chatbot's response\n",
    "    response = chatbot.get_response(user_input)\n",
    "\n",
    "    # Print the chatbot's response\n",
    "    print(response)"
   ]
  },
  {
   "cell_type": "code",
   "execution_count": null,
   "id": "a4c5d6e2",
   "metadata": {},
   "outputs": [],
   "source": []
  }
 ],
 "metadata": {
  "kernelspec": {
   "display_name": "Python 3 (ipykernel)",
   "language": "python",
   "name": "python3"
  },
  "language_info": {
   "codemirror_mode": {
    "name": "ipython",
    "version": 3
   },
   "file_extension": ".py",
   "mimetype": "text/x-python",
   "name": "python",
   "nbconvert_exporter": "python",
   "pygments_lexer": "ipython3",
   "version": "3.10.7"
  }
 },
 "nbformat": 4,
 "nbformat_minor": 5
}
