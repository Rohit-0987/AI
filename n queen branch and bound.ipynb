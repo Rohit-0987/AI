{
 "cells": [
  {
   "cell_type": "code",
   "execution_count": 8,
   "id": "2c9b4e96",
   "metadata": {},
   "outputs": [
    {
     "name": "stdout",
     "output_type": "stream",
     "text": [
      "Number of solutions found: 2\n",
      "Example solution:\n",
      "| Q \n",
      "| Q \n",
      "| Q \n",
      "| Q \n"
     ]
    }
   ],
   "source": [
    "class NQueenProblem:\n",
    "    def __init__(self, n):\n",
    "        self.n = n\n",
    "        self.board = [-1] * n\n",
    "        self.solutions = []\n",
    "\n",
    "    def is_safe(self, row, col):\n",
    "        for i in range(row):\n",
    "            if self.board[i] == col or \\\n",
    "                    self.board[i] - i == col - row or \\\n",
    "                    self.board[i] + i == col + row:\n",
    "                return False\n",
    "        return True\n",
    "\n",
    "    def solve(self):\n",
    "        self.place_queen(0)\n",
    "        return self.solutions\n",
    "\n",
    "    def place_queen(self, row):\n",
    "        if row == self.n:\n",
    "            self.solutions.append(self.board.copy())\n",
    "            return\n",
    "\n",
    "        for col in range(self.n):\n",
    "            if self.is_safe(row, col):\n",
    "                self.board[row] = col\n",
    "                self.place_queen(row + 1)\n",
    "\n",
    "# Example usage:\n",
    "n = 4  # Number of queens and board size\n",
    "problem = NQueenProblem(n)\n",
    "solutions = problem.solve()\n",
    "\n",
    "if len(solutions) == 0:\n",
    "    print(\"No solution found.\")\n",
    "else:\n",
    "    print(\"Number of solutions found:\", len(solutions))\n",
    "    print(\"Example solution:\")\n",
    "    for col in solutions[0]:\n",
    "        line = '| ' + 'Q ' if col != -1 else '| '\n",
    "        print(line)\n"
   ]
  },
  {
   "cell_type": "code",
   "execution_count": null,
   "id": "96e67dac",
   "metadata": {},
   "outputs": [],
   "source": []
  }
 ],
 "metadata": {
  "kernelspec": {
   "display_name": "Python 3 (ipykernel)",
   "language": "python",
   "name": "python3"
  },
  "language_info": {
   "codemirror_mode": {
    "name": "ipython",
    "version": 3
   },
   "file_extension": ".py",
   "mimetype": "text/x-python",
   "name": "python",
   "nbconvert_exporter": "python",
   "pygments_lexer": "ipython3",
   "version": "3.10.7"
  }
 },
 "nbformat": 4,
 "nbformat_minor": 5
}
