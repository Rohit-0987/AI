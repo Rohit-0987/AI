{
 "cells": [
  {
   "cell_type": "code",
   "execution_count": 18,
   "id": "67fb2393",
   "metadata": {},
   "outputs": [
    {
     "name": "stdout",
     "output_type": "stream",
     "text": [
      "Arrangement 1\n",
      "..Q.\n",
      "Q...\n",
      "...Q\n",
      ".Q..\n",
      "\n",
      "Arrangement 2\n",
      ".Q..\n",
      "...Q\n",
      "Q...\n",
      "..Q.\n",
      "\n"
     ]
    }
   ],
   "source": [
    "class Solution:\n",
    "    def isSafe1(self, row, col, board, n):\n",
    "        # check upper element\n",
    "        duprow = row\n",
    "        dupcol = col\n",
    "\n",
    "\n",
    "        while row >= 0 and col >= 0:\n",
    "            if board[row][col] == 'Q':\n",
    "                return False\n",
    "            row -= 1\n",
    "            col -= 1\n",
    "\n",
    "\n",
    "        col = dupcol\n",
    "        row = duprow\n",
    "        while col >= 0:\n",
    "            if board[row][col] == 'Q':\n",
    "                return False\n",
    "            col -= 1\n",
    "\n",
    "\n",
    "        row = duprow\n",
    "        col = dupcol\n",
    "        while row < n and col >= 0:\n",
    "            if board[row][col] == 'Q':\n",
    "                return False\n",
    "            row += 1\n",
    "            col -= 1\n",
    "\n",
    "\n",
    "        return True\n",
    "\n",
    "\n",
    "    def solve(self, col, board, ans, n):\n",
    "        if col == n:\n",
    "            ans.append(list(board))\n",
    "            return\n",
    "\n",
    "\n",
    "        for row in range(n):\n",
    "            if self.isSafe1(row, col, board, n):\n",
    "                board[row] = board[row][:col] + 'Q' + board[row][col+1:]\n",
    "                self.solve(col+1, board, ans, n)\n",
    "                board[row] = board[row][:col] + '.' + board[row][col+1:]\n",
    "\n",
    "\n",
    "    def solveNQueens(self, n):\n",
    "        ans = []\n",
    "        board = ['.'*n for _ in range(n)]\n",
    "        self.solve(0, board, ans, n)\n",
    "        return ans\n",
    "\n",
    "\n",
    "n = 4\n",
    "obj = Solution()\n",
    "ans = obj.solveNQueens(n)\n",
    "for i in range(len(ans)):\n",
    "    print(f\"Arrangement {i+1}\")\n",
    "    for j in range(len(ans[0])):\n",
    "        print(ans[i][j])\n",
    "    print()"
   ]
  }
 ],
 "metadata": {
  "kernelspec": {
   "display_name": "Python 3 (ipykernel)",
   "language": "python",
   "name": "python3"
  },
  "language_info": {
   "codemirror_mode": {
    "name": "ipython",
    "version": 3
   },
   "file_extension": ".py",
   "mimetype": "text/x-python",
   "name": "python",
   "nbconvert_exporter": "python",
   "pygments_lexer": "ipython3",
   "version": "3.10.7"
  }
 },
 "nbformat": 4,
 "nbformat_minor": 5
}
