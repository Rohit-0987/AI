{
 "cells": [
  {
   "cell_type": "code",
   "execution_count": 16,
   "id": "d28b50c9",
   "metadata": {},
   "outputs": [
    {
     "ename": "TabError",
     "evalue": "inconsistent use of tabs and spaces in indentation (1361261500.py, line 12)",
     "output_type": "error",
     "traceback": [
      "\u001b[1;36m  Cell \u001b[1;32mIn[16], line 12\u001b[1;36m\u001b[0m\n\u001b[1;33m    if A[min_ind] > A[j]:\u001b[0m\n\u001b[1;37m    ^\u001b[0m\n\u001b[1;31mTabError\u001b[0m\u001b[1;31m:\u001b[0m inconsistent use of tabs and spaces in indentation\n"
     ]
    }
   ],
   "source": [
    "import sys\n",
    "A =[]\n",
    "n = int(input(\"Enter the number of element in array\"))\n",
    "print(\"Enter number in array\")\n",
    "for _ in range(n):\n",
    "\telement = int(input())\n",
    "\tA.append(element)\n",
    "for i in range(len(A)):\n",
    "    \n",
    "\tmin_ind = i\n",
    "\tfor j in range(i+1, len(A)):\n",
    "        if A[min_ind] > A[j]:\n",
    "        \tmin_ind = j\n",
    "            \n",
    "\tA[i], A[min_idx] = A[min_idx], A[i]\n",
    "\n",
    "print(\"Sorted array\")\n",
    "for i in range(len(A))\n",
    "\tprint(\"%d\" % A[i], end=\" , \")"
   ]
  },
  {
   "cell_type": "code",
   "execution_count": 8,
   "id": "b95a6438",
   "metadata": {},
   "outputs": [
    {
     "name": "stdout",
     "output_type": "stream",
     "text": [
      "Enter the number of elements in the array: 4\n",
      "Enter the elements:\n",
      "6\n",
      "2\n",
      "9\n",
      "0\n",
      "Sorted array:\n",
      "0 , 2 , 6 , 9 , "
     ]
    }
   ],
   "source": [
    "import sys\n",
    "\n",
    "# Take input from the user for array elements\n",
    "A = []\n",
    "n = int(input(\"Enter the number of elements in the array: \"))\n",
    "print(\"Enter the elements:\")\n",
    "for _ in range(n):\n",
    "    element = int(input())\n",
    "    A.append(element)\n",
    "\n",
    "# Traverse through all array elements\n",
    "for i in range(len(A)):\n",
    "    # Find the minimum element in the remaining unsorted array\n",
    "    min_idx = i\n",
    "    for j in range(i+1, len(A)):\n",
    "        if A[min_idx] > A[j]:\n",
    "            min_idx = j\n",
    "             \n",
    "    # Swap the found minimum element with the first element       \n",
    "    A[i], A[min_idx] = A[min_idx], A[i]\n",
    " \n",
    "# Print the sorted array\n",
    "print(\"Sorted array:\")\n",
    "for i in range(len(A)):\n",
    "    print(\"%d\" % A[i])\n"
   ]
  },
  {
   "cell_type": "code",
   "execution_count": null,
   "id": "09fdf002",
   "metadata": {},
   "outputs": [],
   "source": []
  },
  {
   "cell_type": "code",
   "execution_count": null,
   "id": "19ebe80d",
   "metadata": {},
   "outputs": [],
   "source": []
  }
 ],
 "metadata": {
  "kernelspec": {
   "display_name": "Python 3 (ipykernel)",
   "language": "python",
   "name": "python3"
  },
  "language_info": {
   "codemirror_mode": {
    "name": "ipython",
    "version": 3
   },
   "file_extension": ".py",
   "mimetype": "text/x-python",
   "name": "python",
   "nbconvert_exporter": "python",
   "pygments_lexer": "ipython3",
   "version": "3.10.7"
  }
 },
 "nbformat": 4,
 "nbformat_minor": 5
}
